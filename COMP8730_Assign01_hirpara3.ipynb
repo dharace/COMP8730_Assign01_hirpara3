{
  "nbformat": 4,
  "nbformat_minor": 0,
  "metadata": {
    "colab": {
      "name": "NLP AS1.ipynb",
      "provenance": [],
      "include_colab_link": true
    },
    "kernelspec": {
      "name": "python3",
      "display_name": "Python 3"
    },
    "language_info": {
      "name": "python"
    }
  },
  "cells": [
    {
      "cell_type": "markdown",
      "metadata": {
        "id": "view-in-github",
        "colab_type": "text"
      },
      "source": [
        "<a href=\"https://colab.research.google.com/github/dharace/COMP8730_Assign01_hirpara3/blob/main/COMP8730_Assign01_hirpara3.ipynb\" target=\"_parent\"><img src=\"https://colab.research.google.com/assets/colab-badge.svg\" alt=\"Open In Colab\"/></a>"
      ]
    },
    {
      "cell_type": "code",
      "execution_count": 75,
      "metadata": {
        "colab": {
          "base_uri": "https://localhost:8080/"
        },
        "id": "XOVOWMwiv1gJ",
        "outputId": "daf24d0d-44a8-4479-dffc-7c4c99cfa626"
      },
      "outputs": [
        {
          "output_type": "stream",
          "name": "stdout",
          "text": [
            "Requirement already satisfied: pytrec_eval in /usr/local/lib/python3.7/dist-packages (0.5)\n",
            "[nltk_data] Downloading package wordnet to /root/nltk_data...\n",
            "[nltk_data]   Package wordnet is already up-to-date!\n",
            "Drive already mounted at /content/drive; to attempt to forcibly remount, call drive.mount(\"/content/drive\", force_remount=True).\n"
          ]
        }
      ],
      "source": [
        "!pip install pytrec_eval\n",
        "from nltk.corpus import wordnet \n",
        "import nltk\n",
        "nltk.download('wordnet')\n",
        "\n",
        "from google.colab import drive\n",
        "drive.mount('/content/drive')\n",
        "\n",
        "import numpy as np\n",
        "import pandas as pd\n",
        "import matplotlib.pyplot as plt\n",
        "\n",
        "import pytrec_eval\n",
        "import json\n",
        "import scipy.stats\n",
        "import argparse\n",
        "\n",
        "plt.rcParams.update({'figure.figsize':(7,5), 'figure.dpi':100})\n"
      ]
    },
    {
      "cell_type": "markdown",
      "source": [
        ""
      ],
      "metadata": {
        "id": "qYuQhf_UFq7S"
      }
    },
    {
      "cell_type": "code",
      "source": [
        "\n",
        "TELEMARK_PATH = '/content/drive/MyDrive/ABODAT.643'\n",
        "\n",
        "# syn_arr = wordnet.synsets('beautiful')\n",
        "# syn_arr = wordnet.synsets('through')\n",
        "# syn_arr = wordnet.synsets('completely')\n",
        "syn_arr = wordnet.synsets('hurry')\n",
        "\n",
        "syn_arr[0].definition()\n",
        "tokens = syn_arr[1].lemma_names()\n",
        "\n",
        "print(\"Input wors of 'hurry' with lexical names are\")\n",
        "print(tokens)\n",
        "print()\n",
        "\n",
        "# text the misspells of words in pair from Birkbeck dataset\n",
        "def test_misspells(k):\n",
        "        total = 0\n",
        "        identif = 0\n",
        "        pairs = []\n",
        "        with open(TELEMARK_PATH, mode='r', encoding='utf8') as in_f:\n",
        "            for line in in_f:\n",
        "                misspell, correct = line.strip().split(\" \")[:2]\n",
        "                if len(correct) > 1:\n",
        "                  candidates = check(misspell, k)\n",
        "                  if len(candidates) > 0:\n",
        "                    # print(candidates)\n",
        "                    # pairs.append([misspell, correct])\n",
        "                    pairs.append(candidates)\n",
        "                  total += 1\n",
        "                 \n",
        "                  # if correct in candidates:\n",
        "                  #       identif += 1             \n",
        "                  #       #  mis spelled\n",
        "                  #       pairs.append([misspell, correct])\n",
        "                  # else:\n",
        "                        # correct\n",
        "                        # print(total, \": no correct spelling identified for misspelling \",\n",
        "                        #       misspell, \". The correct spelling was \", correct, \".\")\n",
        "        # print(\"Identified %d correct spells out of %d.\" % (identif, total))\n",
        "        return pairs\n",
        "\n",
        "def min_edit_distance(source, target, k):\n",
        "  \n",
        "        dist = 0\n",
        "        n = len(source)\n",
        "        m = len(target)\n",
        "        # create a distance matrix distance[n+1, m+1], temporarily silled in with 'None'\n",
        "        distance = []\n",
        "        for i in range(n+1):\n",
        "            distance.append([])\n",
        "            for j in range(m+1):\n",
        "                distance[i].append(0)\n",
        "\n",
        "        # initialization: the zeroth row and col is the distance from the empty string\n",
        "        distance[0][0] = 0\n",
        "\n",
        "        # initiallize first col\n",
        "        for i in range(1, n+1):\n",
        "            distance[i][0] = distance[i-1][0] + 1\n",
        "        # initialize first row\n",
        "        for j in range(1, m+1):\n",
        "            distance[0][j] = distance[0][j-1] + 1\n",
        "\n",
        "        # recurrence relation\n",
        "        for i in range(1, n+1):\n",
        "            for j in range(1, m+1):\n",
        "                # cell to the left in table plus one(cost)\n",
        "                left = distance[i-1][j] + 1\n",
        "                # cell above in table plus one(cost)\n",
        "                up = distance[i][j-1] + 1\n",
        "                # diagnoal value plus cost for substitution\n",
        "                diagonal = distance[i-1][j-1]\n",
        "                if source[i-1] != target[j-1]:\n",
        "                    diagonal += 1\n",
        "                    # fill in the cell\n",
        "                distance[i][j] = min(left, up, diagonal)\n",
        "\n",
        "        dist = distance[n][m]\n",
        "        if dist == k:\n",
        "        #  print(\"[\" + source + \", \"+ target + \"]\")\n",
        "         return [source, target]\n",
        "        else:\n",
        "         return 0\n",
        "\n",
        "\n",
        "def check(word, k):\n",
        "  spellings = [] \n",
        "  for item in tokens:\n",
        "        dist = min_edit_distance(word, item, k)\n",
        "        if dist != 0:\n",
        "         spellings.append(dist)\n",
        "\n",
        "  return spellings\n",
        "\n",
        "x = test_misspells(1)\n",
        "print(\"For K=1 s@1 mis spells found \" , len(x))\n",
        "print(x)\n",
        "\n",
        "x1 = test_misspells(5)\n",
        "print(\"\\nFor K=5 s@5 mis spells found \" , len(x1))\n",
        "print(x1)\n",
        "\n",
        "x2 = test_misspells(10)\n",
        "print(\"\\nFor K=10 s@10 mis spells found \" , len(x2))\n",
        "print(x2)\n",
        "\n",
        "\n",
        "words = [\"k@1\", \"k@5\", \"k@10\"]\n",
        "avg = [len(x), len(x1), len(x2)]\n",
        "  \n",
        "fig = plt.figure(figsize = (10, 5))\n",
        " \n",
        "# creating the bar plot\n",
        "plt.bar(words, avg, color ='blue',\n",
        "        width = 0.4)\n",
        "\n",
        "avg_words = (len(x) + len(x1) + len(x2))/3\n",
        "\n",
        "print(\"\\n Average of mis spelled words are \", avg_words, \"\\n\")\n",
        " \n",
        "plt.xlabel(\"Top-k words where k={1,5,10}\")\n",
        "plt.ylabel(\"Top-k words found\")\n",
        "plt.title(\"Average of mis spelled words are 83.66666666666667\")\n",
        "plt.show()\n",
        "\n",
        "\n"
      ],
      "metadata": {
        "colab": {
          "base_uri": "https://localhost:8080/",
          "height": 743
        },
        "id": "0fcyNAacxivT",
        "outputId": "0b3a0409-a7ca-4bd2-cfe4-f0c5f9220f59"
      },
      "execution_count": 83,
      "outputs": [
        {
          "output_type": "stream",
          "name": "stdout",
          "text": [
            "Input wors of 'hurry' with lexical names are\n",
            "['haste', 'hastiness', 'hurry', 'hurriedness', 'precipitation']\n",
            "\n",
            "For K=1 s@1 mis spells found  1\n",
            "[[['hyrry', 'hurry']]]\n",
            "\n",
            "For K=5 s@5 mis spells found  118\n",
            "[[['caugt', 'hurry']], [['tought', 'hurry']], [['dive', 'hurry']], [['notced', 'haste']], [['gold', 'haste'], ['gold', 'hurry']], [['drean', 'haste'], ['drean', 'hurry']], [['frisch', 'haste']], [['starded', 'haste']], [['thouwh', 'haste'], ['thouwh', 'hurry']], [['trables', 'haste']], [['reade', 'hurry']], [['fist', 'hurry']], [['can', 'hurry']], [['then', 'haste'], ['then', 'hurry']], [['stayd', 'haste'], ['stayd', 'hurry']], [['catsh', 'hurry']], [['contry', 'haste']], [['choped', 'haste'], ['choped', 'hurry']], [['sigth', 'hurry']], [['cuttage', 'haste']], [['chear', 'haste']], [['wether', 'haste']], [['draw', 'haste']], [['stayd', 'haste'], ['stayd', 'hurry']], [['desided', 'haste']], [['tee', 'hurry']], [['laughted', 'haste']], [['drush', 'haste'], ['drush', 'hurry']], [['glauds', 'haste']], [['dannis', 'haste']], [['vosh', 'hurry']], [['food', 'haste'], ['food', 'hurry']], [['careles', 'haste']], [['alweis', 'haste']], [['sheap', 'haste'], ['sheap', 'hurry']], [['sheep', 'haste'], ['sheep', 'hurry']], [['danisch', 'haste']], [['wasch', 'hurry']], [['bussiness', 'hurriedness']], [['cheep', 'haste'], ['cheep', 'hurry']], [['shool', 'haste'], ['shool', 'hurry']], [['shcool', 'haste'], ['shcool', 'hurry']], [['frech', 'haste'], ['frech', 'hurry']], [['tought', 'hurry']], [['wery', 'haste']], [['thougt', 'haste'], ['thougt', 'hurry']], [['chould', 'haste'], ['chould', 'hurry']], [['era', 'haste']], [['whith', 'hurry']], [['conrol', 'hurry']], [['falce', 'hurry']], [['falsh', 'hurry']], [['ames', 'hurry']], [['meens', 'haste'], ['meens', 'hurry']], [['cornes', 'haste'], ['cornes', 'hurry']], [[\"is't\", 'hurry']], [['trier', 'haste'], ['trier', 'hurry']], [['theacher', 'haste']], [['noice', 'hurry']], [['exept', 'haste'], ['exept', 'hurry']], [['endeed', 'haste']], [['happends', 'haste'], ['happends', 'hastiness']], [['slites', 'hastiness']], [['the', 'hurry']], [['sais', 'hurry']], [['exept', 'haste'], ['exept', 'hurry']], [['listner', 'hastiness']], [['strech', 'haste'], ['strech', 'hurry']], [['chaires', 'hastiness'], ['chaires', 'hurry']], [['automn', 'haste'], ['automn', 'hurry']], [['seing', 'haste'], ['seing', 'hurry']], [['civilation', 'precipitation']], [['Greec', 'haste'], ['Greec', 'hurry']], [['swalow', 'haste']], [['cought', 'hurry']], [['dask', 'hurry']], [['Grec', 'haste']], [['meese', 'hurry']], [['Dutsch', 'haste'], ['Dutsch', 'hurry']], [['Scotsh', 'haste']], [['Sweede', 'haste']], [['femal', 'haste'], ['femal', 'hurry']], [['cabable', 'haste']], [['luxuroys', 'hurry']], [['evillness', 'hastiness']], [['sence', 'hurry']], [['femal', 'haste'], ['femal', 'hurry']], [['albe', 'hurry']], [['noicy', 'haste']], [['allowe', 'haste']], [['of', 'haste'], ['of', 'hurry']], [['sheats', 'hurry']], [['busynes', 'haste'], ['busynes', 'hastiness']], [['stocs', 'haste'], ['stocs', 'hurry']], [['cancell', 'haste']], [['abrod', 'haste']], [['lowes', 'haste'], ['lowes', 'hurry']], [['facultes', 'haste']], [['onest', 'hurry']], [['wich', 'haste'], ['wich', 'hurry']], [['cource', 'haste']], [['deel', 'haste'], ['deel', 'hurry']], [['turists', 'haste'], ['turists', 'hurry']], [['quiet', 'haste']], [['whome', 'hurry']], [['honnor', 'haste'], ['honnor', 'hurry']], [['boared', 'haste'], ['boared', 'hurry']], [['cabines', 'haste']], [['by', 'haste']], [['Tames', 'hurry']], [['aerias', 'hurry']], [['Norwey', 'haste']], [['enjou', 'haste'], ['enjou', 'hurry']], [['chock', 'haste'], ['chock', 'hurry']], [['reaches', 'haste']], [['poluted', 'haste']], [['disturbe', 'haste']], [['mannage', 'haste']]]\n",
            "\n",
            "For K=10 s@10 mis spells found  132\n",
            "[[['beateful', 'hurriedness']], [['throught', 'hurriedness']], [['gold', 'hurriedness']], [['reade', 'precipitation']], [['can', 'hurriedness'], ['can', 'precipitation']], [['trough', 'hurriedness']], [['stayd', 'hurriedness']], [['catsh', 'hurriedness'], ['catsh', 'precipitation']], [['beutiful', 'hurriedness']], [['contry', 'hurriedness']], [['freesing', 'precipitation']], [['pleasuru', 'hurriedness'], ['pleasuru', 'precipitation']], [['wonderfull', 'hastiness'], ['wonderfull', 'hurriedness']], [['sigth', 'hurriedness']], [['cuttage', 'precipitation']], [['wigour', 'hurriedness']], [['chear', 'hurriedness']], [['draw', 'hurriedness']], [['trough', 'hurriedness']], [['stayd', 'hurriedness']], [['qwickly', 'hurriedness']], [['beutiful', 'hurriedness']], [['choppnig', 'hurriedness']], [['vosh', 'hurriedness']], [['food', 'hurriedness']], [['maiby', 'hurriedness']], [['norweigan', 'precipitation']], [['sheap', 'hurriedness']], [['norveigan', 'precipitation']], [['probadly', 'precipitation']], [['beatiful', 'hurriedness'], ['beatiful', 'precipitation']], [['danisch', 'hurriedness']], [['frech', 'precipitation']], [['wery', 'hurriedness']], [['schould', 'hurriedness']], [['aut', 'hurriedness']], [['chould', 'hurriedness']], [['era', 'hurriedness']], [['whith', 'hurriedness']], [['conrol', 'hurriedness']], [['covernments', 'haste'], ['covernments', 'hurry']], [['independend', 'haste']], [['complitely', 'hurriedness']], [['falce', 'hurriedness']], [['indipendent', 'haste']], [['falsh', 'hurriedness']], [['gowenments', 'hurry']], [['completly', 'hurriedness']], [['allways', 'hurriedness']], [['indipendent', 'haste']], [[\"is't\", 'hurriedness']], [['theacher', 'hurriedness']], [['lissten', 'precipitation']], [['exept', 'precipitation']], [['successfull', 'haste'], ['successfull', 'hurry'], ['successfull', 'hurriedness']], [['discription', 'hurry'], ['discription', 'hurriedness']], [['satysfied', 'hurriedness']], [['complet', 'hurriedness']], [['the', 'hurriedness']], [['exept', 'precipitation']], [['cieling', 'precipitation']], [['consentrate', 'hastiness'], ['consentrate', 'hurry']], [['dimention', 'hurriedness']], [['dayligt', 'hurriedness']], [['civilation', 'hastiness'], ['civilation', 'hurry'], ['civilation', 'hurriedness']], [['exposive', 'hurriedness'], ['exposive', 'precipitation']], [['Scotman', 'hurriedness'], ['Scotman', 'precipitation']], [['simlecity', 'hurriedness']], [['certaince', 'precipitation']], [['Scotich', 'hurriedness'], ['Scotich', 'precipitation']], [['succeesfull', 'haste'], ['succeesfull', 'hastiness'], ['succeesfull', 'hurry']], [['Scotisch', 'hurriedness']], [['Scotshman', 'precipitation']], [['Norweigan', 'precipitation']], [['litterary', 'hurriedness']], [['improbabiliti', 'precipitation']], [['possibiliti', 'hurriedness']], [['Japanais', 'precipitation']], [['Canadan', 'hurriedness']], [['improbility', 'haste'], ['improbility', 'hastiness'], ['improbility', 'hurriedness'], ['improbility', 'precipitation']], [['improbablity', 'haste'], ['improbablity', 'hurry']], [['simplicy', 'hurriedness']], [['scientifitic', 'hastiness'], ['scientifitic', 'precipitation']], [['certance', 'precipitation']], [['Grec', 'precipitation']], [['Japanise', 'precipitation']], [['Dutsch', 'hurriedness']], [['Scotsh', 'hurriedness']], [['Norweigan', 'precipitation']], [['litterary', 'hurriedness']], [['successfull', 'haste'], ['successfull', 'hurry'], ['successfull', 'hurriedness']], [['caraful', 'hurriedness']], [['incourage', 'hurriedness']], [['femal', 'hurriedness']], [['cabable', 'hurriedness']], [['femal', 'hurriedness']], [['squality', 'hurriedness']], [['albe', 'hurriedness']], [['noicy', 'hurriedness']], [['allowe', 'hurriedness']], [['labourious', 'hurriedness']], [['batchler', 'hurriedness']], [['sheats', 'precipitation']], [['stocs', 'hurriedness']], [['cancell', 'hurriedness']], [['cansel', 'hurriedness']], [['utilisising', 'haste'], ['utilisising', 'hurriedness'], ['utilisising', 'precipitation']], [['ear', 'hurriedness']], [['wich', 'hurriedness']], [['aquantance', 'hurriedness']], [['colloquel', 'hurriedness']], [['teatcher', 'hurriedness']], [['beutiful', 'hurriedness']], [['whome', 'hurriedness']], [['enterpretor', 'haste'], ['enterpretor', 'hastiness'], ['enterpretor', 'precipitation']], [['suffisient', 'precipitation']], [['conservaties', 'hurriedness'], ['conservaties', 'precipitation']], [['polullute', 'hurriedness']], [['congueror', 'hurriedness']], [['independency', 'hastiness'], ['independency', 'hurriedness']], [['polucated', 'hurriedness'], ['polucated', 'precipitation']], [['ballance', 'hurriedness']], [['aerias', 'precipitation']], [['demokrats', 'hurriedness'], ['demokrats', 'precipitation']], [['immeadetly', 'hurriedness']], [['reaches', 'precipitation']], [['explane', 'precipitation']], [['democrates', 'precipitation']], [['disturbe', 'hurriedness']], [['pollutated', 'hurriedness']], [['mannage', 'hurriedness']], [['rhuburb', 'hurriedness']]]\n",
            "\n",
            " Average of mis spelled words are  83.66666666666667 \n",
            "\n"
          ]
        },
        {
          "output_type": "display_data",
          "data": {
            "image/png": "[encoded data removed]",
            "text/plain": [
              "<Figure size 1000x500 with 1 Axes>"
            ]
          },
          "metadata": {
            "needs_background": "light"
          }
        }
      ]
    }
  ]
}